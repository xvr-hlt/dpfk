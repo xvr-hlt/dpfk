{
 "cells": [
  {
   "cell_type": "code",
   "execution_count": 1,
   "metadata": {},
   "outputs": [],
   "source": [
    "from dpfk import util"
   ]
  },
  {
   "cell_type": "code",
   "execution_count": 2,
   "metadata": {},
   "outputs": [],
   "source": [
    "config = util.read_config('config/base.yml')"
   ]
  },
  {
   "cell_type": "code",
   "execution_count": 3,
   "metadata": {},
   "outputs": [
    {
     "data": {
      "text/plain": [
       "{'data': {'batch_size': 192,\n",
       "  'images_home': '/home/xavier_holt/tensorflow_datasets/faces/',\n",
       "  'instances_home': '/home/xavier_holt/tensorflow_datasets/ts_im/',\n",
       "  'size': [256, 256]},\n",
       " 'loss': {'kwargs': {'pos_weight': [0.15]}, 'type': 'BCEWithLogitsLoss'},\n",
       " 'model': {'kwargs': {'advprop': True, 'num_classes': 1},\n",
       "  'type': 'efficientnet-b4'},\n",
       " 'optim': {'kwargs': {'lr': 3e-05}, 'type': 'Adam'},\n",
       " 'optim_scheduler': {'type': 'ExponentialLR', 'kwargs': {'gamma': 0.99}},\n",
       " 'trainer': {'gpus': 4,\n",
       "  'use_amp': True,\n",
       "  'distributed_backend': 'ddp',\n",
       "  'max_epochs': 100},\n",
       " 'early_stopping': {'monitor': 'val_loss_weighted',\n",
       "  'patience': 10,\n",
       "  'mode': 'min'},\n",
       " 'aug': {'prob': 0.5, 'level': 2}}"
      ]
     },
     "execution_count": 3,
     "metadata": {},
     "output_type": "execute_result"
    }
   ],
   "source": [
    "config"
   ]
  },
  {
   "cell_type": "code",
   "execution_count": 7,
   "metadata": {},
   "outputs": [],
   "source": [
    "from dpfk.data import loader\n",
    "from dpfk.nn import model as nnmodel"
   ]
  },
  {
   "cell_type": "code",
   "execution_count": 9,
   "metadata": {},
   "outputs": [],
   "source": [
    "train = loader.ImageLoader.get_train_loader(config, normalize=normalize)"
   ]
  },
  {
   "cell_type": "code",
   "execution_count": 10,
   "metadata": {},
   "outputs": [],
   "source": [
    "val = loader.ImageLoader.get_val_loader(config, normalize=normalize)"
   ]
  },
  {
   "cell_type": "code",
   "execution_count": 12,
   "metadata": {},
   "outputs": [],
   "source": [
    "import facenet_pytorch\n",
    "facedet = facenet_pytorch.MTCNN(device='cpu', **{'image_size': 256, 'margin': 32, 'post_process': False, 'select_largest': False})"
   ]
  },
  {
   "cell_type": "code",
   "execution_count": 13,
   "metadata": {},
   "outputs": [],
   "source": [
    "import cv2\n",
    "import torch\n",
    "from torchvision import transforms\n",
    "\n",
    "from dpfk import util\n",
    "from dpfk.data import util as data_util\n",
    "from dpfk.nn import model\n",
    "import facenet_pytorch"
   ]
  },
  {
   "cell_type": "code",
   "execution_count": 14,
   "metadata": {},
   "outputs": [],
   "source": [
    "frames = list(data_util.grab_frames(vid_path, n=self.n, rgb=True))\n",
    "faces = self.facedet(frames)\n",
    "faces = [self.normalize(f / 255.) for f in faces if f is not None]"
   ]
  },
  {
   "cell_type": "code",
   "execution_count": 14,
   "metadata": {},
   "outputs": [],
   "source": [
    "frames = list(data_util.grab_frames('/home/xavier_holt/tensorflow_datasets/ts_im/dfdc_train_part_0/aaqaifqrwn.mp4', n=12, rgb=True))"
   ]
  },
  {
   "cell_type": "code",
   "execution_count": 16,
   "metadata": {},
   "outputs": [],
   "source": [
    "faces = facedet(frames)"
   ]
  },
  {
   "cell_type": "code",
   "execution_count": 17,
   "metadata": {},
   "outputs": [],
   "source": [
    "faces = [normalize(f / 255.) for f in faces if f is not None]"
   ]
  },
  {
   "cell_type": "code",
   "execution_count": 9,
   "metadata": {},
   "outputs": [],
   "source": [
    "from albumentations.pytorch import ToTensor"
   ]
  },
  {
   "cell_type": "code",
   "execution_count": 1,
   "metadata": {},
   "outputs": [],
   "source": [
    "from facenet_pytorch import MTCNN\n",
    "detector = MTCNN(image_size=256, margin=32, device='cuda', post_process=False, select_largest=False)"
   ]
  },
  {
   "cell_type": "code",
   "execution_count": 2,
   "metadata": {},
   "outputs": [],
   "source": [
    "import torch\n",
    "from torchvision.transforms import functional as FT\n",
    "\n",
    "class VideoDataset(torch.utils.data.Dataset):\n",
    "    def __init__(self, paths, n=16):\n",
    "        self.paths = paths\n",
    "        self.n = n\n",
    "    \n",
    "    def __len__(self):\n",
    "        return len(self.paths)\n",
    "    \n",
    "    def __getitem__(self, ix):\n",
    "        pth = self.paths[ix]\n",
    "        ims = list(util.grab_frames(pth, n=self.n, rgb=True))\n",
    "        return ims, pth"
   ]
  },
  {
   "cell_type": "code",
   "execution_count": 3,
   "metadata": {},
   "outputs": [],
   "source": [
    "import os\n",
    "from os import path"
   ]
  },
  {
   "cell_type": "code",
   "execution_count": 4,
   "metadata": {},
   "outputs": [],
   "source": [
    "import glob\n",
    "from tqdm.auto import tqdm"
   ]
  },
  {
   "cell_type": "code",
   "execution_count": 5,
   "metadata": {},
   "outputs": [],
   "source": []
  },
  {
   "cell_type": "code",
   "execution_count": 6,
   "metadata": {},
   "outputs": [],
   "source": [
    "from dpfk.data import util"
   ]
  },
  {
   "cell_type": "code",
   "execution_count": null,
   "metadata": {},
   "outputs": [],
   "source": []
  },
  {
   "cell_type": "code",
   "execution_count": null,
   "metadata": {},
   "outputs": [],
   "source": []
  },
  {
   "cell_type": "code",
   "execution_count": null,
   "metadata": {},
   "outputs": [],
   "source": []
  },
  {
   "cell_type": "code",
   "execution_count": null,
   "metadata": {},
   "outputs": [],
   "source": []
  },
  {
   "cell_type": "code",
   "execution_count": null,
   "metadata": {},
   "outputs": [],
   "source": []
  },
  {
   "cell_type": "code",
   "execution_count": 2,
   "metadata": {},
   "outputs": [],
   "source": [
    "from glob import glob"
   ]
  },
  {
   "cell_type": "code",
   "execution_count": 3,
   "metadata": {},
   "outputs": [],
   "source": [
    "from dpfk.data import loader"
   ]
  },
  {
   "cell_type": "code",
   "execution_count": 6,
   "metadata": {},
   "outputs": [],
   "source": [
    "loader.ImageLoader.is_validation_fold??"
   ]
  },
  {
   "cell_type": "code",
   "execution_count": null,
   "metadata": {},
   "outputs": [],
   "source": []
  },
  {
   "cell_type": "code",
   "execution_count": null,
   "metadata": {},
   "outputs": [],
   "source": []
  }
 ],
 "metadata": {
  "kernelspec": {
   "display_name": "Python 3",
   "language": "python",
   "name": "python3"
  },
  "language_info": {
   "codemirror_mode": {
    "name": "ipython",
    "version": 3
   },
   "file_extension": ".py",
   "mimetype": "text/x-python",
   "name": "python",
   "nbconvert_exporter": "python",
   "pygments_lexer": "ipython3",
   "version": "3.7.4"
  }
 },
 "nbformat": 4,
 "nbformat_minor": 4
}
